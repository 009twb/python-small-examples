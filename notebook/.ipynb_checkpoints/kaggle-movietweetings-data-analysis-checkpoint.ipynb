{
 "cells": [
  {
   "cell_type": "markdown",
   "metadata": {},
   "source": [
    "# 1 读入数据"
   ]
  },
  {
   "cell_type": "code",
   "execution_count": null,
   "metadata": {},
   "outputs": [],
   "source": []
  },
  {
   "cell_type": "code",
   "execution_count": 3,
   "metadata": {},
   "outputs": [
    {
     "name": "stdout",
     "output_type": "stream",
     "text": [
      "   Movie ID                                        Movie Title  \\\n",
      "0         8      Edison Kinetoscopic Record of a Sneeze (1894)   \n",
      "1        10                La sortie des usines Lumi猫re (1895)   \n",
      "2        12                      The Arrival of a Train (1896)   \n",
      "3        25  The Oxford and Cambridge University Boat Race ...   \n",
      "4        91                         Le manoir du diable (1896)   \n",
      "5       131                           Une nuit terrible (1896)   \n",
      "6       417                      Le voyage dans la lune (1902)   \n",
      "7       439                     The Great Train Robbery (1903)   \n",
      "8       443        Hiawatha, the Messiah of the Ojibway (1903)   \n",
      "9       628                    The Adventures of Dollie (1908)   \n",
      "\n",
      "                                          Genre  \n",
      "0                             Documentary|Short  \n",
      "1                             Documentary|Short  \n",
      "2                             Documentary|Short  \n",
      "3                                           NaN  \n",
      "4                                  Short|Horror  \n",
      "5                           Short|Comedy|Horror  \n",
      "6  Short|Action|Adventure|Comedy|Fantasy|Sci-Fi  \n",
      "7                    Short|Action|Crime|Western  \n",
      "8                                           NaN  \n",
      "9                                  Action|Short  \n",
      "   User ID  Twitter ID\n",
      "0        1   397291295\n",
      "1        2    40501255\n",
      "2        3   417333257\n",
      "3        4   138805259\n",
      "4        5  2452094989\n",
      "5        6   391774225\n",
      "6        7    47317010\n",
      "7        8    84541461\n",
      "8        9  2445803544\n",
      "9       10   995885060\n",
      "   User ID  Movie ID  Rating  Rating Timestamp\n",
      "0        1    111161      10        1373234211\n",
      "1        1    117060       7        1373415231\n",
      "2        1    120755       6        1373424360\n",
      "3        1    317919       6        1373495763\n",
      "4        1    454876      10        1373621125\n",
      "5        1    790724       8        1374641320\n",
      "6        1    882977       8        1372898763\n",
      "7        1   1229238       9        1373506523\n",
      "8        1   1288558       5        1373154354\n",
      "9        1   1300854       8        1377165712\n"
     ]
    }
   ],
   "source": [
    "import pandas as pd\n",
    "import numpy as np\n",
    "\n",
    "movies = pd.read_csv('../data/movietweetings/movies.dat', delimiter='::',\n",
    "                     engine='python', header=None, names=['Movie ID', 'Movie Title', 'Genre'])\n",
    "print(movies.head(10))\n",
    "users = pd.read_csv('../data/movietweetings/users.dat', delimiter='::',\n",
    "                    engine='python', header=None, names=['User ID', 'Twitter ID'])\n",
    "print(users.head(10))\n",
    "ratings = pd.read_csv('../data/movietweetings/ratings.dat', delimiter='::', engine='python',\n",
    "                      header=None, names=['User ID', 'Movie ID', 'Rating', 'Rating Timestamp'])\n",
    "\n",
    "print(ratings.head(10))\n"
   ]
  },
  {
   "cell_type": "code",
   "execution_count": null,
   "metadata": {
    "collapsed": true
   },
   "outputs": [],
   "source": []
  },
  {
   "cell_type": "code",
   "execution_count": 4,
   "metadata": {},
   "outputs": [
    {
     "data": {
      "text/html": [
       "<div>\n",
       "<style scoped>\n",
       "    .dataframe tbody tr th:only-of-type {\n",
       "        vertical-align: middle;\n",
       "    }\n",
       "\n",
       "    .dataframe tbody tr th {\n",
       "        vertical-align: top;\n",
       "    }\n",
       "\n",
       "    .dataframe thead th {\n",
       "        text-align: right;\n",
       "    }\n",
       "</style>\n",
       "<table border=\"1\" class=\"dataframe\">\n",
       "  <thead>\n",
       "    <tr style=\"text-align: right;\">\n",
       "      <th></th>\n",
       "      <th>Movie ID</th>\n",
       "      <th>Movie Title</th>\n",
       "      <th>Genre</th>\n",
       "    </tr>\n",
       "  </thead>\n",
       "  <tbody>\n",
       "    <tr>\n",
       "      <td>8419</td>\n",
       "      <td>111161</td>\n",
       "      <td>The Shawshank Redemption (1994)</td>\n",
       "      <td>Drama</td>\n",
       "    </tr>\n",
       "  </tbody>\n",
       "</table>\n",
       "</div>"
      ],
      "text/plain": [
       "      Movie ID                      Movie Title  Genre\n",
       "8419    111161  The Shawshank Redemption (1994)  Drama"
      ]
     },
     "execution_count": 4,
     "metadata": {},
     "output_type": "execute_result"
    }
   ],
   "source": [
    "movies[movies['Movie ID']==111161]"
   ]
  },
  {
   "cell_type": "code",
   "execution_count": null,
   "metadata": {},
   "outputs": [],
   "source": []
  },
  {
   "cell_type": "markdown",
   "metadata": {},
   "source": [
    "### 2 找出喜剧(comedy)"
   ]
  },
  {
   "cell_type": "code",
   "execution_count": null,
   "metadata": {
    "collapsed": true
   },
   "outputs": [],
   "source": []
  },
  {
   "cell_type": "code",
   "execution_count": 5,
   "metadata": {},
   "outputs": [
    {
     "name": "stdout",
     "output_type": "stream",
     "text": [
      "0    False\n",
      "1    False\n",
      "2    False\n",
      "3    False\n",
      "4    False\n",
      "5     True\n",
      "6     True\n",
      "7    False\n",
      "8    False\n",
      "9    False\n",
      "Name: Genre, dtype: bool\n",
      "5      131\n",
      "6      417\n",
      "15    2354\n",
      "18    3863\n",
      "19    4099\n",
      "20    4100\n",
      "21    4101\n",
      "22    4210\n",
      "23    4395\n",
      "25    4518\n",
      "Name: Movie ID, dtype: int64\n"
     ]
    }
   ],
   "source": [
    "mask = movies.Genre.str.contains('comedy', case=False, na=False)\n",
    "print(mask.head(10))\n",
    "comedy = movies[mask]\n",
    "comedy_ids = comedy['Movie ID']\n",
    "print(comedy_ids.head(10))"
   ]
  },
  {
   "cell_type": "code",
   "execution_count": null,
   "metadata": {
    "collapsed": true
   },
   "outputs": [],
   "source": []
  },
  {
   "cell_type": "markdown",
   "metadata": {},
   "source": [
    "### 3 关联rating表"
   ]
  },
  {
   "cell_type": "code",
   "execution_count": 6,
   "metadata": {},
   "outputs": [
    {
     "name": "stdout",
     "output_type": "stream",
     "text": [
      "   User ID  Movie ID  Rating  Rating Timestamp  Movie ID2 Movie Title Genre\n",
      "0        1    111161      10        1373234211        NaN         NaN   NaN\n",
      "1        1    117060       7        1373415231        NaN         NaN   NaN\n",
      "2        1    120755       6        1373424360        NaN         NaN   NaN\n",
      "3        1    317919       6        1373495763        NaN         NaN   NaN\n",
      "4        1    454876      10        1373621125        NaN         NaN   NaN\n",
      "5        1    790724       8        1374641320        NaN         NaN   NaN\n",
      "6        1    882977       8        1372898763        NaN         NaN   NaN\n",
      "7        1   1229238       9        1373506523        NaN         NaN   NaN\n",
      "8        1   1288558       5        1373154354        NaN         NaN   NaN\n",
      "9        1   1300854       8        1377165712        NaN         NaN   NaN\n"
     ]
    }
   ],
   "source": [
    "combine = ratings.join(comedy, on='Movie ID', rsuffix='2') ### BUG BUG BUG!!!!!!\n",
    "print(combine.head(10))"
   ]
  },
  {
   "cell_type": "code",
   "execution_count": null,
   "metadata": {
    "collapsed": true
   },
   "outputs": [],
   "source": []
  },
  {
   "cell_type": "code",
   "execution_count": 7,
   "metadata": {},
   "outputs": [
    {
     "name": "stdout",
     "output_type": "stream",
     "text": [
      "      User ID  Movie ID  Rating  Rating Timestamp  Movie ID2  \\\n",
      "347        53     31381       9        1362133907  5745450.0   \n",
      "593        69     33467       8        1440456538  7671064.0   \n",
      "3297      188     22279       8        1365438569  2140577.0   \n",
      "3599      228     33467       7        1537651137  7671064.0   \n",
      "4392      288     21749      10        1435980991  2061861.0   \n",
      "6047      501     31381       8        1381784126  5745450.0   \n",
      "6354      518     31381      10        1391099884  5745450.0   \n",
      "6409      520       417      10        1437579236    24852.0   \n",
      "6413      520     22100       9        1474939689  2112096.0   \n",
      "6415      520     23634       9        1460240847  2380331.0   \n",
      "\n",
      "                                  Movie Title                          Genre  \n",
      "347                               Chef (2017)            Comedy|Drama|Family  \n",
      "593           Brittany Runs A Marathon (2019)                   Comedy|Drama  \n",
      "3297                    The Pretty One (2013)                   Comedy|Drama  \n",
      "3599          Brittany Runs A Marathon (2019)                   Comedy|Drama  \n",
      "4392  You Really Fucked Me Back There. (2011)             Short|Comedy|Drama  \n",
      "6047                              Chef (2017)            Comedy|Drama|Family  \n",
      "6354                              Chef (2017)            Comedy|Drama|Family  \n",
      "6409                  Babes in Toyland (1934)  Comedy|Family|Fantasy|Musical  \n",
      "6413    Absolutely Fabulous: The Movie (2016)                   Comedy|Crime  \n",
      "6415                Words and Pictures (2013)           Comedy|Drama|Romance  \n"
     ]
    }
   ],
   "source": [
    "result = combine[pd.notnull(combine['Movie ID2'])]\n",
    "print(result.head(10))"
   ]
  },
  {
   "cell_type": "code",
   "execution_count": null,
   "metadata": {
    "collapsed": true
   },
   "outputs": [],
   "source": []
  },
  {
   "cell_type": "markdown",
   "metadata": {},
   "source": [
    "为什么Movie ID2的类型变了？检查下"
   ]
  },
  {
   "cell_type": "code",
   "execution_count": 26,
   "metadata": {},
   "outputs": [
    {
     "data": {
      "text/plain": [
       "User ID               int64\n",
       "Movie ID              int64\n",
       "Rating                int64\n",
       "Rating Timestamp      int64\n",
       "Movie ID2           float64\n",
       "Movie Title          object\n",
       "Genre                object\n",
       "dtype: object"
      ]
     },
     "execution_count": 26,
     "metadata": {},
     "output_type": "execute_result"
    }
   ],
   "source": [
    "combine.dtypes"
   ]
  },
  {
   "cell_type": "code",
   "execution_count": 27,
   "metadata": {
    "collapsed": true
   },
   "outputs": [
    {
     "name": "stdout",
     "output_type": "stream",
     "text": [
      "Help on method join in module pandas.core.frame:\n",
      "\n",
      "join(other, on=None, how='left', lsuffix='', rsuffix='', sort=False) method of pandas.core.frame.DataFrame instance\n",
      "    Join columns with other DataFrame either on index or on a key\n",
      "    column. Efficiently Join multiple DataFrame objects by index at once by\n",
      "    passing a list.\n",
      "    \n",
      "    Parameters\n",
      "    ----------\n",
      "    other : DataFrame, Series with name field set, or list of DataFrame\n",
      "        Index should be similar to one of the columns in this one. If a\n",
      "        Series is passed, its name attribute must be set, and that will be\n",
      "        used as the column name in the resulting joined DataFrame\n",
      "    on : column name, tuple/list of column names, or array-like\n",
      "        Column(s) in the caller to join on the index in other,\n",
      "        otherwise joins index-on-index. If multiples\n",
      "        columns given, the passed DataFrame must have a MultiIndex. Can\n",
      "        pass an array as the join key if not already contained in the\n",
      "        calling DataFrame. Like an Excel VLOOKUP operation\n",
      "    how : {'left', 'right', 'outer', 'inner'}, default: 'left'\n",
      "        How to handle the operation of the two objects.\n",
      "    \n",
      "        * left: use calling frame's index (or column if on is specified)\n",
      "        * right: use other frame's index\n",
      "        * outer: form union of calling frame's index (or column if on is\n",
      "          specified) with other frame's index, and sort it\n",
      "          lexicographically\n",
      "        * inner: form intersection of calling frame's index (or column if\n",
      "          on is specified) with other frame's index, preserving the order\n",
      "          of the calling's one\n",
      "    lsuffix : string\n",
      "        Suffix to use from left frame's overlapping columns\n",
      "    rsuffix : string\n",
      "        Suffix to use from right frame's overlapping columns\n",
      "    sort : boolean, default False\n",
      "        Order result DataFrame lexicographically by the join key. If False,\n",
      "        the order of the join key depends on the join type (how keyword)\n",
      "    \n",
      "    Notes\n",
      "    -----\n",
      "    on, lsuffix, and rsuffix options are not supported when passing a list\n",
      "    of DataFrame objects\n",
      "    \n",
      "    Examples\n",
      "    --------\n",
      "    >>> caller = pd.DataFrame({'key': ['K0', 'K1', 'K2', 'K3', 'K4', 'K5'],\n",
      "    ...                        'A': ['A0', 'A1', 'A2', 'A3', 'A4', 'A5']})\n",
      "    \n",
      "    >>> caller\n",
      "        A key\n",
      "    0  A0  K0\n",
      "    1  A1  K1\n",
      "    2  A2  K2\n",
      "    3  A3  K3\n",
      "    4  A4  K4\n",
      "    5  A5  K5\n",
      "    \n",
      "    >>> other = pd.DataFrame({'key': ['K0', 'K1', 'K2'],\n",
      "    ...                       'B': ['B0', 'B1', 'B2']})\n",
      "    \n",
      "    >>> other\n",
      "        B key\n",
      "    0  B0  K0\n",
      "    1  B1  K1\n",
      "    2  B2  K2\n",
      "    \n",
      "    Join DataFrames using their indexes.\n",
      "    \n",
      "    >>> caller.join(other, lsuffix='_caller', rsuffix='_other')\n",
      "    \n",
      "    >>>     A key_caller    B key_other\n",
      "        0  A0         K0   B0        K0\n",
      "        1  A1         K1   B1        K1\n",
      "        2  A2         K2   B2        K2\n",
      "        3  A3         K3  NaN       NaN\n",
      "        4  A4         K4  NaN       NaN\n",
      "        5  A5         K5  NaN       NaN\n",
      "    \n",
      "    \n",
      "    If we want to join using the key columns, we need to set key to be\n",
      "    the index in both caller and other. The joined DataFrame will have\n",
      "    key as its index.\n",
      "    \n",
      "    >>> caller.set_index('key').join(other.set_index('key'))\n",
      "    \n",
      "    >>>      A    B\n",
      "        key\n",
      "        K0   A0   B0\n",
      "        K1   A1   B1\n",
      "        K2   A2   B2\n",
      "        K3   A3  NaN\n",
      "        K4   A4  NaN\n",
      "        K5   A5  NaN\n",
      "    \n",
      "    Another option to join using the key columns is to use the on\n",
      "    parameter. DataFrame.join always uses other's index but we can use any\n",
      "    column in the caller. This method preserves the original caller's\n",
      "    index in the result.\n",
      "    \n",
      "    >>> caller.join(other.set_index('key'), on='key')\n",
      "    \n",
      "    >>>     A key    B\n",
      "        0  A0  K0   B0\n",
      "        1  A1  K1   B1\n",
      "        2  A2  K2   B2\n",
      "        3  A3  K3  NaN\n",
      "        4  A4  K4  NaN\n",
      "        5  A5  K5  NaN\n",
      "    \n",
      "    \n",
      "    See also\n",
      "    --------\n",
      "    DataFrame.merge : For column(s)-on-columns(s) operations\n",
      "    \n",
      "    Returns\n",
      "    -------\n",
      "    joined : DataFrame\n",
      "\n"
     ]
    }
   ],
   "source": [
    "help(ratings.join)"
   ]
  },
  {
   "cell_type": "code",
   "execution_count": 29,
   "metadata": {},
   "outputs": [
    {
     "name": "stdout",
     "output_type": "stream",
     "text": [
      "     Movie ID              Movie Title                          Genre\n",
      "417     24852  Babes in Toyland (1934)  Comedy|Family|Fantasy|Musical\n"
     ]
    }
   ],
   "source": [
    "print(comedy[comedy['Movie ID']==24852])"
   ]
  },
  {
   "cell_type": "markdown",
   "metadata": {},
   "source": [
    "出现一个坑：\n",
    "\n",
    "join链接时，ratings表Movie ID 字段与 comedy表Index建立关系\n",
    "\n",
    "大坑！\n",
    "改\n",
    "\n",
    "以上是官档中一句话：\n",
    "\n",
    "DataFrame.join always uses other’s index "
   ]
  },
  {
   "cell_type": "code",
   "execution_count": null,
   "metadata": {
    "collapsed": true
   },
   "outputs": [],
   "source": []
  },
  {
   "cell_type": "code",
   "execution_count": 8,
   "metadata": {},
   "outputs": [
    {
     "name": "stdout",
     "output_type": "stream",
     "text": [
      "   User ID  Movie ID  Rating  Rating Timestamp Movie Title Genre\n",
      "0        1    111161      10        1373234211         NaN   NaN\n",
      "1        1    117060       7        1373415231         NaN   NaN\n",
      "2        1    120755       6        1373424360         NaN   NaN\n",
      "3        1    317919       6        1373495763         NaN   NaN\n",
      "4        1    454876      10        1373621125         NaN   NaN\n",
      "5        1    790724       8        1374641320         NaN   NaN\n",
      "6        1    882977       8        1372898763         NaN   NaN\n",
      "7        1   1229238       9        1373506523         NaN   NaN\n",
      "8        1   1288558       5        1373154354         NaN   NaN\n",
      "9        1   1300854       8        1377165712         NaN   NaN\n"
     ]
    }
   ],
   "source": [
    "combine = ratings.join(comedy.set_index('Movie ID'), on='Movie ID')\n",
    "print(combine.head(10))"
   ]
  },
  {
   "cell_type": "code",
   "execution_count": null,
   "metadata": {
    "collapsed": true
   },
   "outputs": [],
   "source": []
  },
  {
   "cell_type": "code",
   "execution_count": 10,
   "metadata": {},
   "outputs": [
    {
     "name": "stdout",
     "output_type": "stream",
     "text": [
      "    User ID  Movie ID  Rating  Rating Timestamp             Movie Title  \\\n",
      "12        1   1588173       9        1372821281      Warm Bodies (2013)   \n",
      "13        1   1711425       3        1372604878        21 & Over (2013)   \n",
      "14        1   2024432       8        1372703553   Identity Thief (2013)   \n",
      "17        1   2101441       1        1372633473  Spring Breakers (2012)   \n",
      "28        2   1431045       7        1457733508         Deadpool (2016)   \n",
      "\n",
      "                             Genre  \n",
      "12           Comedy|Horror|Romance  \n",
      "13                          Comedy  \n",
      "14    Adventure|Comedy|Crime|Drama  \n",
      "17              Comedy|Crime|Drama  \n",
      "28  Action|Adventure|Comedy|Sci-Fi  \n"
     ]
    }
   ],
   "source": [
    "result = combine[pd.notnull(combine['Genre'])]\n",
    "print(result.head(5))"
   ]
  },
  {
   "cell_type": "code",
   "execution_count": null,
   "metadata": {
    "collapsed": true
   },
   "outputs": [],
   "source": []
  },
  {
   "cell_type": "markdown",
   "metadata": {},
   "source": [
    "再演证下\n",
    "\n",
    "拿Movie ID 1588173 到 comdey表中查看"
   ]
  },
  {
   "cell_type": "code",
   "execution_count": null,
   "metadata": {
    "collapsed": true
   },
   "outputs": [],
   "source": []
  },
  {
   "cell_type": "code",
   "execution_count": 11,
   "metadata": {},
   "outputs": [
    {
     "data": {
      "text/html": [
       "<div>\n",
       "<style scoped>\n",
       "    .dataframe tbody tr th:only-of-type {\n",
       "        vertical-align: middle;\n",
       "    }\n",
       "\n",
       "    .dataframe tbody tr th {\n",
       "        vertical-align: top;\n",
       "    }\n",
       "\n",
       "    .dataframe thead th {\n",
       "        text-align: right;\n",
       "    }\n",
       "</style>\n",
       "<table border=\"1\" class=\"dataframe\">\n",
       "  <thead>\n",
       "    <tr style=\"text-align: right;\">\n",
       "      <th></th>\n",
       "      <th>Movie ID</th>\n",
       "      <th>Movie Title</th>\n",
       "      <th>Genre</th>\n",
       "    </tr>\n",
       "  </thead>\n",
       "  <tbody>\n",
       "    <tr>\n",
       "      <td>19131</td>\n",
       "      <td>1588173</td>\n",
       "      <td>Warm Bodies (2013)</td>\n",
       "      <td>Comedy|Horror|Romance</td>\n",
       "    </tr>\n",
       "  </tbody>\n",
       "</table>\n",
       "</div>"
      ],
      "text/plain": [
       "       Movie ID         Movie Title                  Genre\n",
       "19131   1588173  Warm Bodies (2013)  Comedy|Horror|Romance"
      ]
     },
     "execution_count": 11,
     "metadata": {},
     "output_type": "execute_result"
    }
   ],
   "source": [
    "comedy[comedy['Movie ID']==1588173]"
   ]
  },
  {
   "cell_type": "code",
   "execution_count": null,
   "metadata": {},
   "outputs": [],
   "source": []
  },
  {
   "cell_type": "markdown",
   "metadata": {},
   "source": [
    "可以看到comedy表中Movie ID 与 ratings表 中一致\n",
    "\n",
    "验证通过！"
   ]
  },
  {
   "cell_type": "code",
   "execution_count": null,
   "metadata": {
    "collapsed": true
   },
   "outputs": [],
   "source": []
  },
  {
   "cell_type": "markdown",
   "metadata": {},
   "source": [
    "### 4 按照Movie ID 分组"
   ]
  },
  {
   "cell_type": "code",
   "execution_count": 12,
   "metadata": {},
   "outputs": [],
   "source": [
    "score_as_movie = result.groupby('Movie ID').mean()"
   ]
  },
  {
   "cell_type": "code",
   "execution_count": null,
   "metadata": {},
   "outputs": [],
   "source": []
  },
  {
   "cell_type": "code",
   "execution_count": 7,
   "metadata": {},
   "outputs": [
    {
     "data": {
      "text/plain": [
       "User ID             float64\n",
       "Rating              float64\n",
       "Rating Timestamp    float64\n",
       "dtype: object"
      ]
     },
     "execution_count": 7,
     "metadata": {},
     "output_type": "execute_result"
    }
   ],
   "source": [
    "score_as_movie.dtypes"
   ]
  },
  {
   "cell_type": "code",
   "execution_count": null,
   "metadata": {
    "collapsed": true
   },
   "outputs": [],
   "source": []
  },
  {
   "cell_type": "code",
   "execution_count": 41,
   "metadata": {},
   "outputs": [
    {
     "name": "stdout",
     "output_type": "stream",
     "text": [
      "               User ID  Rating  Rating Timestamp\n",
      "Movie ID                                        \n",
      "131       34861.000000     7.0      1.540639e+09\n",
      "417       34121.409091     8.5      1.458680e+09\n",
      "2354       6264.000000     8.0      1.456343e+09\n",
      "3863      43803.000000    10.0      1.430439e+09\n",
      "4099      25084.500000     7.0      1.450323e+09\n"
     ]
    }
   ],
   "source": [
    "print(score_as_movie.head())"
   ]
  },
  {
   "cell_type": "markdown",
   "metadata": {},
   "source": [
    "验证下"
   ]
  },
  {
   "cell_type": "code",
   "execution_count": 51,
   "metadata": {
    "collapsed": true
   },
   "outputs": [],
   "source": [
    "mv417 = ratings[ratings['Movie ID']==417]\n",
    "print(mv417)"
   ]
  },
  {
   "cell_type": "code",
   "execution_count": null,
   "metadata": {
    "collapsed": true
   },
   "outputs": [],
   "source": []
  },
  {
   "cell_type": "code",
   "execution_count": 55,
   "metadata": {},
   "outputs": [
    {
     "data": {
      "text/plain": [
       "8.5"
      ]
     },
     "execution_count": 55,
     "metadata": {},
     "output_type": "execute_result"
    }
   ],
   "source": [
    "mv417['Rating'].mean()"
   ]
  },
  {
   "cell_type": "markdown",
   "metadata": {},
   "source": [
    "验证OK"
   ]
  },
  {
   "cell_type": "code",
   "execution_count": null,
   "metadata": {
    "collapsed": true
   },
   "outputs": [],
   "source": []
  },
  {
   "cell_type": "markdown",
   "metadata": {},
   "source": [
    "### 5 按照电影得分排序"
   ]
  },
  {
   "cell_type": "code",
   "execution_count": 13,
   "metadata": {},
   "outputs": [
    {
     "ename": "TypeError",
     "evalue": "'str' object is not callable",
     "output_type": "error",
     "traceback": [
      "\u001b[1;31m---------------------------------------------------------------------------\u001b[0m",
      "\u001b[1;31mTypeError\u001b[0m                                 Traceback (most recent call last)",
      "\u001b[1;32m<ipython-input-13-05abfa067215>\u001b[0m in \u001b[0;36m<module>\u001b[1;34m\u001b[0m\n\u001b[1;32m----> 1\u001b[1;33m \u001b[0msorted\u001b[0m\u001b[1;33m(\u001b[0m\u001b[0mscore_as_movie\u001b[0m\u001b[1;33m,\u001b[0m\u001b[0mkey\u001b[0m\u001b[1;33m=\u001b[0m\u001b[1;34m'Rating'\u001b[0m\u001b[1;33m,\u001b[0m\u001b[0mreverse\u001b[0m\u001b[1;33m=\u001b[0m\u001b[1;32mTrue\u001b[0m\u001b[1;33m)\u001b[0m\u001b[1;33m\u001b[0m\u001b[1;33m\u001b[0m\u001b[0m\n\u001b[0m",
      "\u001b[1;31mTypeError\u001b[0m: 'str' object is not callable"
     ]
    }
   ],
   "source": [
    "sorted(score_as_movie,key='Rating',reverse=True)"
   ]
  },
  {
   "cell_type": "code",
   "execution_count": null,
   "metadata": {},
   "outputs": [],
   "source": []
  },
  {
   "cell_type": "code",
   "execution_count": 9,
   "metadata": {},
   "outputs": [
    {
     "data": {
      "text/plain": [
       "True"
      ]
     },
     "execution_count": 9,
     "metadata": {},
     "output_type": "execute_result"
    }
   ],
   "source": [
    "from collections import Iterable\n",
    "isinstance(score_as_movie,Iterable)"
   ]
  },
  {
   "cell_type": "markdown",
   "metadata": {},
   "source": [
    "还是用pandas提供的sort_values()"
   ]
  },
  {
   "cell_type": "code",
   "execution_count": 19,
   "metadata": {},
   "outputs": [],
   "source": [
    "score_as_movie.sort_values(by='Rating', ascending = False,inplace=True)"
   ]
  },
  {
   "cell_type": "code",
   "execution_count": null,
   "metadata": {},
   "outputs": [],
   "source": []
  },
  {
   "cell_type": "code",
   "execution_count": 20,
   "metadata": {
    "scrolled": true
   },
   "outputs": [],
   "source": [
    "bests = score_as_movie[score_as_movie['Rating']==10.0]"
   ]
  },
  {
   "cell_type": "code",
   "execution_count": null,
   "metadata": {
    "collapsed": true
   },
   "outputs": [],
   "source": []
  },
  {
   "cell_type": "markdown",
   "metadata": {},
   "source": [
    "### 6 电影观看人数"
   ]
  },
  {
   "cell_type": "code",
   "execution_count": 18,
   "metadata": {},
   "outputs": [],
   "source": [
    "watchs = result.groupby('Movie ID').agg(['count'])"
   ]
  },
  {
   "cell_type": "code",
   "execution_count": null,
   "metadata": {},
   "outputs": [],
   "source": []
  },
  {
   "cell_type": "code",
   "execution_count": 17,
   "metadata": {},
   "outputs": [
    {
     "name": "stdout",
     "output_type": "stream",
     "text": [
      "         User ID Rating Rating Timestamp Movie Title Genre\n",
      "           count  count            count       count count\n",
      "Movie ID                                                  \n",
      "131            1      1                1           1     1\n",
      "417           22     22               22          22    22\n",
      "2354           1      1                1           1     1\n",
      "3863           1      1                1           1     1\n",
      "4099           2      2                2           2     2\n"
     ]
    }
   ],
   "source": [
    "print(watchs.head())"
   ]
  },
  {
   "cell_type": "code",
   "execution_count": null,
   "metadata": {
    "collapsed": true
   },
   "outputs": [],
   "source": []
  },
  {
   "cell_type": "code",
   "execution_count": 24,
   "metadata": {},
   "outputs": [],
   "source": [
    "watchs2 = watchs['Rating']['count']"
   ]
  },
  {
   "cell_type": "code",
   "execution_count": 41,
   "metadata": {},
   "outputs": [
    {
     "name": "stdout",
     "output_type": "stream",
     "text": [
      "Movie ID\n",
      "131      1\n",
      "417     22\n",
      "2354     1\n",
      "3863     1\n",
      "4099     2\n",
      "Name: count, dtype: int64\n"
     ]
    }
   ],
   "source": [
    "print(watchs2.head())"
   ]
  },
  {
   "cell_type": "code",
   "execution_count": null,
   "metadata": {
    "collapsed": true
   },
   "outputs": [],
   "source": []
  },
  {
   "cell_type": "code",
   "execution_count": 43,
   "metadata": {},
   "outputs": [
    {
     "name": "stdout",
     "output_type": "stream",
     "text": [
      "          User ID  Rating  Rating Timestamp\n",
      "Movie ID                                   \n",
      "7134690   30110.0    10.0      1.524974e+09\n",
      "3799996    2139.0    10.0      1.431606e+09\n",
      "2381958   31836.0    10.0      1.395280e+09\n",
      "2380390   37135.0    10.0      1.410507e+09\n",
      "2379090   33877.0    10.0      1.372359e+09\n"
     ]
    }
   ],
   "source": [
    "print(bests.head())"
   ]
  },
  {
   "cell_type": "markdown",
   "metadata": {},
   "source": [
    "### 7 满分电影中，按照观看次数排序"
   ]
  },
  {
   "cell_type": "code",
   "execution_count": 45,
   "metadata": {},
   "outputs": [
    {
     "data": {
      "text/plain": [
       "Int64Index([7134690, 3799996, 2381958, 2380390, 2379090,  110852, 2377194,\n",
       "            2375037,   45907, 2374002,\n",
       "            ...\n",
       "              50263, 4612116, 8242160,   75793, 1747960,   75744,   50818,\n",
       "             184512, 1737122,   24316],\n",
       "           dtype='int64', name='Movie ID', length=501)"
      ]
     },
     "execution_count": 45,
     "metadata": {},
     "output_type": "execute_result"
    }
   ],
   "source": [
    "bests.index"
   ]
  },
  {
   "cell_type": "code",
   "execution_count": 47,
   "metadata": {},
   "outputs": [
    {
     "data": {
      "text/plain": [
       "Int64Index([     131,      417,     2354,     3863,     4099,     4100,\n",
       "                4101,     4210,     4395,     4518,\n",
       "            ...\n",
       "            10726756, 10737904, 10810424, 10847194, 10847306, 10847330,\n",
       "            10895830, 10952752, 10971520, 10977680],\n",
       "           dtype='int64', name='Movie ID', length=10740)"
      ]
     },
     "execution_count": 47,
     "metadata": {},
     "output_type": "execute_result"
    }
   ],
   "source": [
    "watchs2.index"
   ]
  },
  {
   "cell_type": "code",
   "execution_count": 49,
   "metadata": {},
   "outputs": [
    {
     "data": {
      "text/html": [
       "<div>\n",
       "<style>\n",
       "    .dataframe thead tr:only-child th {\n",
       "        text-align: right;\n",
       "    }\n",
       "\n",
       "    .dataframe thead th {\n",
       "        text-align: left;\n",
       "    }\n",
       "\n",
       "    .dataframe tbody tr th {\n",
       "        vertical-align: top;\n",
       "    }\n",
       "</style>\n",
       "<table border=\"1\" class=\"dataframe\">\n",
       "  <thead>\n",
       "    <tr style=\"text-align: right;\">\n",
       "      <th></th>\n",
       "      <th>User ID</th>\n",
       "      <th>Rating</th>\n",
       "      <th>Rating Timestamp</th>\n",
       "    </tr>\n",
       "    <tr>\n",
       "      <th>Movie ID</th>\n",
       "      <th></th>\n",
       "      <th></th>\n",
       "      <th></th>\n",
       "    </tr>\n",
       "  </thead>\n",
       "  <tbody>\n",
       "    <tr>\n",
       "      <th>7134690</th>\n",
       "      <td>30110.0</td>\n",
       "      <td>10.0</td>\n",
       "      <td>1.524974e+09</td>\n",
       "    </tr>\n",
       "  </tbody>\n",
       "</table>\n",
       "</div>"
      ],
      "text/plain": [
       "          User ID  Rating  Rating Timestamp\n",
       "Movie ID                                   \n",
       "7134690   30110.0    10.0      1.524974e+09"
      ]
     },
     "execution_count": 49,
     "metadata": {},
     "output_type": "execute_result"
    }
   ],
   "source": [
    "bests[bests.index==7134690]"
   ]
  },
  {
   "cell_type": "code",
   "execution_count": 25,
   "metadata": {},
   "outputs": [
    {
     "data": {
      "text/plain": [
       "Movie ID\n",
       "7134690    1\n",
       "Name: count, dtype: int64"
      ]
     },
     "execution_count": 25,
     "metadata": {},
     "output_type": "execute_result"
    }
   ],
   "source": [
    "watchs2[watchs2.index==7134690]"
   ]
  },
  {
   "cell_type": "code",
   "execution_count": null,
   "metadata": {},
   "outputs": [],
   "source": []
  },
  {
   "cell_type": "code",
   "execution_count": 26,
   "metadata": {},
   "outputs": [],
   "source": [
    "bests_most = bests.join(watchs2)"
   ]
  },
  {
   "cell_type": "code",
   "execution_count": null,
   "metadata": {
    "collapsed": true
   },
   "outputs": [],
   "source": []
  },
  {
   "cell_type": "code",
   "execution_count": 27,
   "metadata": {},
   "outputs": [],
   "source": [
    "bests_most.sort_values(by='count',ascending=False,inplace=True)"
   ]
  },
  {
   "cell_type": "code",
   "execution_count": 29,
   "metadata": {},
   "outputs": [
    {
     "name": "stdout",
     "output_type": "stream",
     "text": [
      "               User ID  Rating  Rating Timestamp  count\n",
      "Movie ID                                               \n",
      "4921860   36898.187500    10.0      1.445855e+09     48\n",
      "5262972   29330.607143    10.0      1.452208e+09     28\n",
      "6662050   22627.409091    10.0      1.555754e+09     22\n",
      "4448444   29148.600000    10.0      1.484094e+09      5\n",
      "2254364   33191.750000    10.0      1.393409e+09      4\n"
     ]
    }
   ],
   "source": [
    "print(bests_most.head())"
   ]
  },
  {
   "cell_type": "code",
   "execution_count": null,
   "metadata": {},
   "outputs": [],
   "source": [
    "count列为文章被评论次数，如果一部电影被评论次数过低，准确性的置信度就会大大降低。"
   ]
  },
  {
   "cell_type": "code",
   "execution_count": null,
   "metadata": {},
   "outputs": [],
   "source": []
  },
  {
   "cell_type": "code",
   "execution_count": 56,
   "metadata": {},
   "outputs": [
    {
     "data": {
      "text/html": [
       "<div>\n",
       "<style>\n",
       "    .dataframe thead tr:only-child th {\n",
       "        text-align: right;\n",
       "    }\n",
       "\n",
       "    .dataframe thead th {\n",
       "        text-align: left;\n",
       "    }\n",
       "\n",
       "    .dataframe tbody tr th {\n",
       "        vertical-align: top;\n",
       "    }\n",
       "</style>\n",
       "<table border=\"1\" class=\"dataframe\">\n",
       "  <thead>\n",
       "    <tr style=\"text-align: right;\">\n",
       "      <th></th>\n",
       "      <th>Movie ID</th>\n",
       "      <th>Movie Title</th>\n",
       "      <th>Genre</th>\n",
       "    </tr>\n",
       "  </thead>\n",
       "  <tbody>\n",
       "    <tr>\n",
       "      <th>30004</th>\n",
       "      <td>4921860</td>\n",
       "      <td>MSG 2 the Messenger (2015)</td>\n",
       "      <td>Comedy|Drama|Fantasy|Horror</td>\n",
       "    </tr>\n",
       "  </tbody>\n",
       "</table>\n",
       "</div>"
      ],
      "text/plain": [
       "       Movie ID                 Movie Title                        Genre\n",
       "30004   4921860  MSG 2 the Messenger (2015)  Comedy|Drama|Fantasy|Horror"
      ]
     },
     "execution_count": 56,
     "metadata": {},
     "output_type": "execute_result"
    }
   ],
   "source": [
    "movies[movies['Movie ID'] == 4921860]"
   ]
  },
  {
   "cell_type": "code",
   "execution_count": null,
   "metadata": {
    "collapsed": true
   },
   "outputs": [],
   "source": []
  },
  {
   "cell_type": "code",
   "execution_count": null,
   "metadata": {
    "collapsed": true
   },
   "outputs": [],
   "source": []
  }
 ],
 "metadata": {
  "kernelspec": {
   "display_name": "Python 3",
   "language": "python",
   "name": "python3"
  },
  "language_info": {
   "codemirror_mode": {
    "name": "ipython",
    "version": 3
   },
   "file_extension": ".py",
   "mimetype": "text/x-python",
   "name": "python",
   "nbconvert_exporter": "python",
   "pygments_lexer": "ipython3",
   "version": "3.7.4"
  }
 },
 "nbformat": 4,
 "nbformat_minor": 2
}
